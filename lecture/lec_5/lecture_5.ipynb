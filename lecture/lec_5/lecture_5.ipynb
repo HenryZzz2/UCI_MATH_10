{
 "cells": [
  {
   "cell_type": "markdown",
   "metadata": {},
   "source": [
    "# Lecture 5: Control Flows and Functions"
   ]
  },
  {
   "cell_type": "markdown",
   "metadata": {},
   "source": [
    "## Control Flows"
   ]
  },
  {
   "cell_type": "markdown",
   "metadata": {},
   "source": [
    "In a typical programming language, the major control flows include **Choice** and **Loop**."
   ]
  },
  {
   "cell_type": "markdown",
   "metadata": {},
   "source": [
    "### Choice and `if` loops in Python"
   ]
  },
  {
   "cell_type": "markdown",
   "metadata": {},
   "source": [
    "General form:\n",
    "\n",
    "`if test_1:     # test_1 should return a boolean result -- don't forget the colon: here\n",
    "    statement_1 # associated block of test_1 -- don't forget the indentation here\n",
    " elif test_2:   # optional, if we have multiple branches\n",
    "    statement_2\n",
    " else:          # optional\n",
    "    statement_3\n",
    "`"
   ]
  },
  {
   "cell_type": "code",
   "execution_count": 16,
   "metadata": {},
   "outputs": [
    {
     "name": "stdout",
     "output_type": "stream",
     "text": [
      "negative number\n"
     ]
    }
   ],
   "source": [
    "x = -5\n",
    "\n",
    "if x>0:\n",
    "    print('positive number')\n",
    "elif x == 0:  # using == to test the equivalence of values\n",
    "    print('zero')\n",
    "else:\n",
    "    print('negative number')    "
   ]
  },
  {
   "cell_type": "code",
   "execution_count": 8,
   "metadata": {},
   "outputs": [
    {
     "name": "stdout",
     "output_type": "stream",
     "text": [
      "x is in the list\n"
     ]
    }
   ],
   "source": [
    "x = 1\n",
    "mylist = [1,2,3]\n",
    "\n",
    "if x in mylist: # using keyword \"in\" to test if x is the element of list \n",
    "    print('x is in the list')\n",
    "else:\n",
    "    print('x is not in the list')"
   ]
  },
  {
   "cell_type": "code",
   "execution_count": 9,
   "metadata": {},
   "outputs": [
    {
     "name": "stdout",
     "output_type": "stream",
     "text": [
      "non-zero number\n"
     ]
    }
   ],
   "source": [
    "x = 10\n",
    "if x>0 or x<0: ##  \"and,or,not\" are three typical boolean expressions in python\n",
    "    print('non-zero number')\n",
    "else:\n",
    "    print('zero number')   "
   ]
  },
  {
   "cell_type": "code",
   "execution_count": 13,
   "metadata": {},
   "outputs": [
    {
     "name": "stdout",
     "output_type": "stream",
     "text": [
      "non-zero number\n"
     ]
    }
   ],
   "source": [
    "x = 10\n",
    "if not x == 0: # or you can write if x!=0\n",
    "    print('non-zero number')\n",
    "else:\n",
    "    print('zero number')   "
   ]
  },
  {
   "cell_type": "markdown",
   "metadata": {},
   "source": [
    "### Loop: `while`\n",
    "\n",
    "`while test:  # test returns a boolean\n",
    "    statement_1\n",
    "else:             # a special feature about python that is overlooked! Use it in combination with break/continue \n",
    "    statement_2\n",
    "`"
   ]
  },
  {
   "cell_type": "code",
   "execution_count": 49,
   "metadata": {},
   "outputs": [
    {
     "name": "stdout",
     "output_type": "stream",
     "text": [
      "140660831485616\n",
      "140660831485616\n",
      "140660831485616\n",
      "140660831485616\n",
      "140660831485616\n",
      "140660831485616\n",
      "140660831485616\n",
      "140660831485616\n",
      "140660831485616\n",
      "140660831485616\n",
      "[0, 1, 2, 3, 4, 5, 6, 7, 8, 9]\n"
     ]
    }
   ],
   "source": [
    "n = 0 \n",
    "mylist = [] # create an empty list\n",
    "while n < 10:\n",
    "    mylist.append(n) # the code to be executed if n < 10\n",
    "    n = n + 1 # increase the counter by 1\n",
    "    print(id(mylist))\n",
    "    \n",
    "print(mylist) # this line is no longer in the while loop!"
   ]
  },
  {
   "cell_type": "code",
   "execution_count": 39,
   "metadata": {},
   "outputs": [
    {
     "name": "stdout",
     "output_type": "stream",
     "text": [
      "y is prime\n",
      "1\n"
     ]
    }
   ],
   "source": [
    "# determine whether y is prime\n",
    "y = 3\n",
    "x = y // 2 # Why? Can it be improved?\n",
    "while x > 1:\n",
    "    if y % x == 0: # Reminder\n",
    "        print('y is not prime')\n",
    "        break      # exit the while loop immediately\n",
    "    else:          # this else is for if\n",
    "        x = x-1\n",
    "else:              # this else is for while -- run this if only there is normal exit without hitting the break\n",
    "    print('y is prime') # what if this statement is not in the else block?\n",
    "\n",
    "print(x)        "
   ]
  },
  {
   "cell_type": "markdown",
   "metadata": {},
   "source": [
    "### Loop: `for`"
   ]
  },
  {
   "cell_type": "markdown",
   "metadata": {},
   "source": [
    "`for target in object:\n",
    "     statement_1\n",
    "     if test_1: break # exit the for loop immediately\n",
    "else:                 # run this only when exit normally without hitting break\n",
    "    statement_2    \n",
    "`"
   ]
  },
  {
   "cell_type": "markdown",
   "metadata": {},
   "source": [
    "Computing sum of the list"
   ]
  },
  {
   "cell_type": "code",
   "execution_count": 52,
   "metadata": {},
   "outputs": [
    {
     "name": "stdout",
     "output_type": "stream",
     "text": [
      "10\n"
     ]
    }
   ],
   "source": [
    "mylist = [1,2,3,4]\n",
    "mysum = 0\n",
    "\n",
    "for x in mylist:\n",
    "    mysum = mysum + x\n",
    "print(mysum)\n",
    "\n",
    "# this might be a more pythonic way!"
   ]
  },
  {
   "cell_type": "code",
   "execution_count": 53,
   "metadata": {},
   "outputs": [
    {
     "name": "stdout",
     "output_type": "stream",
     "text": [
      "10\n"
     ]
    }
   ],
   "source": [
    "mylist = [1,2,3,4]\n",
    "mysum = 0\n",
    "\n",
    "for i in range(len(mylist)):\n",
    "    mysum = mysum + mylist[i]\n",
    "print(mysum)\n",
    "\n",
    "# this is what you're familiar in Matlab perhaps!"
   ]
  },
  {
   "cell_type": "markdown",
   "metadata": {},
   "source": [
    "Change the elements of list"
   ]
  },
  {
   "cell_type": "code",
   "execution_count": 58,
   "metadata": {},
   "outputs": [
    {
     "name": "stdout",
     "output_type": "stream",
     "text": [
      "140660830702960\n",
      "[2, 3, 4, 5]\n",
      "140660830702960\n"
     ]
    }
   ],
   "source": [
    "mylist = [1,2,3,4]\n",
    "print(id(mylist))\n",
    "\n",
    "for i in range(len(mylist)):\n",
    "    mylist[i] = mylist[i] + 1\n",
    "\n",
    "print(mylist)\n",
    "print(id(mylist))\n"
   ]
  },
  {
   "cell_type": "code",
   "execution_count": 77,
   "metadata": {},
   "outputs": [
    {
     "name": "stdout",
     "output_type": "stream",
     "text": [
      "[1, 2, 3, 4]\n"
     ]
    }
   ],
   "source": [
    "# this will NOT work -- think why !\n",
    "mylist = [1,2,3,4]\n",
    "\n",
    "for x in mylist:\n",
    "    x = x + 1\n",
    "\n",
    "print(mylist)"
   ]
  },
  {
   "cell_type": "markdown",
   "metadata": {},
   "source": [
    "A more *pythonic* way is through list comprehension"
   ]
  },
  {
   "cell_type": "code",
   "execution_count": 65,
   "metadata": {},
   "outputs": [
    {
     "name": "stdout",
     "output_type": "stream",
     "text": [
      "140660831443296\n",
      "[2, 3, 4, 5]\n",
      "140660831726560\n"
     ]
    }
   ],
   "source": [
    "mylist = [1,2,3,4]\n",
    "print(id(mylist))\n",
    "\n",
    "mylist = [x+1 for x in mylist]\n",
    "\n",
    "print(mylist)\n",
    "print(id(mylist))"
   ]
  },
  {
   "cell_type": "markdown",
   "metadata": {},
   "source": [
    "comprehension is very powerful -- it can also be combined with if statement"
   ]
  },
  {
   "cell_type": "code",
   "execution_count": 85,
   "metadata": {},
   "outputs": [
    {
     "name": "stdout",
     "output_type": "stream",
     "text": [
      "['__add__', '__class__', '__contains__', '__delattr__', '__delitem__', '__dir__', '__doc__', '__eq__', '__format__', '__ge__', '__getattribute__', '__getitem__', '__gt__', '__hash__', '__iadd__', '__imul__', '__init__', '__init_subclass__', '__iter__', '__le__', '__len__', '__lt__', '__mul__', '__ne__', '__new__', '__reduce__', '__reduce_ex__', '__repr__', '__reversed__', '__rmul__', '__setattr__', '__setitem__', '__sizeof__', '__str__', '__subclasshook__']\n"
     ]
    }
   ],
   "source": [
    "# take all the special attributes/names of mylist\n",
    "dir_mylist = dir(mylist)\n",
    "special_names = [name for name in dir_mylist if name.startswith('__')]\n",
    "print(special_names)"
   ]
  },
  {
   "cell_type": "markdown",
   "metadata": {},
   "source": [
    "I highly recommend [this video](https://www.youtube.com/watch?v=OSGv2VnC0go) for writing the pythonic codes"
   ]
  }
 ],
 "metadata": {
  "kernelspec": {
   "display_name": "Python 3",
   "language": "python",
   "name": "python3"
  },
  "language_info": {
   "codemirror_mode": {
    "name": "ipython",
    "version": 3
   },
   "file_extension": ".py",
   "mimetype": "text/x-python",
   "name": "python",
   "nbconvert_exporter": "python",
   "pygments_lexer": "ipython3",
   "version": "3.7.6"
  }
 },
 "nbformat": 4,
 "nbformat_minor": 4
}
