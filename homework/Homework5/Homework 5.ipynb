{
 "cells": [
  {
   "cell_type": "markdown",
   "metadata": {},
   "source": [
    "# Homework 5\n",
    "## insert your name and id here"
   ]
  },
  {
   "cell_type": "markdown",
   "metadata": {},
   "source": [
    "In this homework, you're required to follow the basic [tutorial of Seaborn](https://seaborn.pydata.org/tutorial/function_overview.html), and reproduce the codes and statistical figures by replacing the dataset with [iris](https://en.wikipedia.org/wiki/Iris_flower_data_set). \n",
    "\n",
    "Prior to start, please make sure that your Seaborn is upgraded to latest version. You can simply try:"
   ]
  },
  {
   "cell_type": "code",
   "execution_count": null,
   "metadata": {},
   "outputs": [],
   "source": [
    "pip install seaborn --upgrade"
   ]
  },
  {
   "cell_type": "markdown",
   "metadata": {},
   "source": [
    "and then **restart the kernel**. Make sure the version is >= 0.11.0"
   ]
  },
  {
   "cell_type": "code",
   "execution_count": null,
   "metadata": {},
   "outputs": [],
   "source": [
    "import seaborn as sns\n",
    "sns.__version__"
   ]
  },
  {
   "cell_type": "markdown",
   "metadata": {},
   "source": [
    "Here are the codes to import the data."
   ]
  },
  {
   "cell_type": "code",
   "execution_count": null,
   "metadata": {},
   "outputs": [],
   "source": [
    "import matplotlib.pyplot as plt\n",
    "iris = sns.load_dataset(\"iris\")\n",
    "iris.sample(5)"
   ]
  },
  {
   "cell_type": "markdown",
   "metadata": {},
   "source": [
    "*Requirements:* "
   ]
  },
  {
   "cell_type": "markdown",
   "metadata": {},
   "source": [
    "- Replace the dataset \"penguins\" in the tutorial with \"iris\" that we have already loaded for you. Remember also to change the variable name when applicable. You can select the variables that you think is appropriate to display.\n",
    "\n",
    "\n",
    "- Follow all the codes and figures in basic [tutorial](https://seaborn.pydata.org/tutorial/function_overview.html), **EXCEPT for** the ones in section \"Similar functions for similar tasks\",\"Figure-level functions own their figure\",\"Customizing plots from a figure-level function\" and \"Specifying figure sizes\".\n",
    "\n",
    "\n",
    "- Prior to each code block of generating figures, write a short paragraph in Markdown format about: \n",
    "\n",
    "    1) what does the figure represent, for example, \"it is a histogram that ....\", and what does x label and y label refers to.\n",
    "    \n",
    "    2) what basic conclusion about the dataset you can draw from the graph. It does not have to be the rigorous conclusions -- some simple qualitative descriptions are enough."
   ]
  },
  {
   "cell_type": "code",
   "execution_count": null,
   "metadata": {},
   "outputs": [],
   "source": [
    "# start your markdown and code here"
   ]
  },
  {
   "cell_type": "markdown",
   "metadata": {},
   "source": [
    "**Optional**: Refer to the gallery or other tutorials on the website, and generate more fancy figures with this dataset!"
   ]
  },
  {
   "cell_type": "code",
   "execution_count": null,
   "metadata": {},
   "outputs": [],
   "source": []
  }
 ],
 "metadata": {
  "kernelspec": {
   "display_name": "Python 3",
   "language": "python",
   "name": "python3"
  },
  "language_info": {
   "codemirror_mode": {
    "name": "ipython",
    "version": 3
   },
   "file_extension": ".py",
   "mimetype": "text/x-python",
   "name": "python",
   "nbconvert_exporter": "python",
   "pygments_lexer": "ipython3",
   "version": "3.7.6"
  }
 },
 "nbformat": 4,
 "nbformat_minor": 4
}
