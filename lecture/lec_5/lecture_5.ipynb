{
 "cells": [
  {
   "cell_type": "markdown",
   "metadata": {
    "slideshow": {
     "slide_type": "slide"
    }
   },
   "source": [
    "# Lecture 5: Control Flows and Functions"
   ]
  },
  {
   "cell_type": "markdown",
   "metadata": {
    "slideshow": {
     "slide_type": "subslide"
    }
   },
   "source": [
    "## Control Flows"
   ]
  },
  {
   "cell_type": "markdown",
   "metadata": {
    "slideshow": {
     "slide_type": "fragment"
    }
   },
   "source": [
    "In a typical programming language, the major control flows include **Choice** and **Loop**."
   ]
  },
  {
   "cell_type": "markdown",
   "metadata": {
    "slideshow": {
     "slide_type": "fragment"
    }
   },
   "source": [
    "### Choice and `if` loops in Python"
   ]
  },
  {
   "cell_type": "markdown",
   "metadata": {
    "slideshow": {
     "slide_type": "fragment"
    }
   },
   "source": [
    "General form:\n",
    "\n",
    "`if test_1:     # test_1 should return a boolean result -- don't forget the colon: here\n",
    "    statement_1 # associated block of test_1 -- don't forget the indentation here\n",
    " elif test_2:   # optional, if we have multiple branches\n",
    "    statement_2\n",
    " else:          # optional\n",
    "    statement_3\n",
    "`"
   ]
  },
  {
   "cell_type": "code",
   "execution_count": 3,
   "metadata": {
    "slideshow": {
     "slide_type": "fragment"
    }
   },
   "outputs": [
    {
     "ename": "IndentationError",
     "evalue": "expected an indented block (<ipython-input-3-ce71ffcf6823>, line 4)",
     "output_type": "error",
     "traceback": [
      "\u001b[0;36m  File \u001b[0;32m\"<ipython-input-3-ce71ffcf6823>\"\u001b[0;36m, line \u001b[0;32m4\u001b[0m\n\u001b[0;31m    print('positive number')\u001b[0m\n\u001b[0m        ^\u001b[0m\n\u001b[0;31mIndentationError\u001b[0m\u001b[0;31m:\u001b[0m expected an indented block\n"
     ]
    }
   ],
   "source": [
    "x = -5\n",
    "\n",
    "if x > 0:\n",
    "    print('positive number')\n",
    "elif x == 0:  # using == to test the equivalence of values\n",
    "    print('zero')\n",
    "else:\n",
    "    print('negative number')    "
   ]
  },
  {
   "cell_type": "code",
   "execution_count": 4,
   "metadata": {
    "slideshow": {
     "slide_type": "fragment"
    }
   },
   "outputs": [
    {
     "name": "stdout",
     "output_type": "stream",
     "text": [
      "x is in the list\n"
     ]
    }
   ],
   "source": [
    "x = 1\n",
    "mylist = [1,2,3]\n",
    "\n",
    "if x in mylist: # using keyword \"in\" to test if x is the element of list \n",
    "    print('x is in the list')\n",
    "else:\n",
    "    print('x is not in the list')"
   ]
  },
  {
   "cell_type": "code",
   "execution_count": 5,
   "metadata": {
    "slideshow": {
     "slide_type": "fragment"
    }
   },
   "outputs": [
    {
     "name": "stdout",
     "output_type": "stream",
     "text": [
      "non-zero number\n"
     ]
    }
   ],
   "source": [
    "x = 10\n",
    "if x > 0 or x < 0: ##  \"and,or,not\" are three typical boolean expressions in python\n",
    "    print('non-zero number')\n",
    "else:\n",
    "    print('zero number')   "
   ]
  },
  {
   "cell_type": "code",
   "execution_count": null,
   "metadata": {
    "slideshow": {
     "slide_type": "fragment"
    }
   },
   "outputs": [],
   "source": [
    "x = 10\n",
    "if not x == 0: # or you can write if x!=0        \n",
    "    print('non-zero number')\n",
    "else:\n",
    "    print('zero number')   "
   ]
  },
  {
   "cell_type": "markdown",
   "metadata": {},
   "source": [
    "**Remark**: I highly recommend you DO NOT use the `&` and `|` in if statement -- always use `and` and `or`. In Python, `and` and `or` are logical operators, while `&` and `|` are [bitwise operators that may cause unexpected problems](https://www.geeksforgeeks.org/difference-between-and-and-in-python/#:~:text=and%20is%20a%20Logical%20AND,as%20False%20when%20using%20logically.)."
   ]
  },
  {
   "cell_type": "markdown",
   "metadata": {
    "slideshow": {
     "slide_type": "slide"
    }
   },
   "source": [
    "### Loop: `while`\n",
    "\n",
    "`while test:  # test returns a boolean\n",
    "    statement_1\n",
    "else:             # a special feature about python that is overlooked! Use it in combination with break/continue \n",
    "    statement_2\n",
    "`"
   ]
  },
  {
   "cell_type": "code",
   "execution_count": 6,
   "metadata": {
    "slideshow": {
     "slide_type": "fragment"
    }
   },
   "outputs": [
    {
     "name": "stdout",
     "output_type": "stream",
     "text": [
      "140268322210192\n",
      "140268322210192\n",
      "140268322210192\n",
      "140268322210192\n",
      "140268322210192\n",
      "140268322210192\n",
      "140268322210192\n",
      "140268322210192\n",
      "140268322210192\n",
      "140268322210192\n",
      "[0, 1, 2, 3, 4, 5, 6, 7, 8, 9]\n"
     ]
    }
   ],
   "source": [
    "n = 0 \n",
    "mylist = [] # create an empty list\n",
    "while n < 10:\n",
    "    mylist.append(n) # the code to be executed if n < 10\n",
    "    n = n + 1 # increase the counter by 1\n",
    "    print(id(mylist))\n",
    "    \n",
    "print(mylist) # this line is no longer in the while loop!"
   ]
  },
  {
   "cell_type": "code",
   "execution_count": 9,
   "metadata": {
    "slideshow": {
     "slide_type": "fragment"
    }
   },
   "outputs": [
    {
     "name": "stdout",
     "output_type": "stream",
     "text": [
      "y is not prime\n",
      "5\n"
     ]
    }
   ],
   "source": [
    "# determine whether y is prime\n",
    "y = 10\n",
    "x = y // 2 # Why? Can it be improved?\n",
    "while x > 1:\n",
    "    if y % x == 0: # Reminder\n",
    "        print('y is not prime')\n",
    "        break      # exit the while loop immediately\n",
    "    else:          # this else is for if\n",
    "        x = x-1\n",
    "else:              # this else is for while -- run this if only there is normal exit without hitting the break\n",
    "    print('y is prime') # what if this statement is not in the else block?\n",
    "\n",
    "print(x)        "
   ]
  },
  {
   "cell_type": "markdown",
   "metadata": {
    "slideshow": {
     "slide_type": "slide"
    }
   },
   "source": [
    "### Loop: `for`"
   ]
  },
  {
   "cell_type": "markdown",
   "metadata": {
    "slideshow": {
     "slide_type": "fragment"
    }
   },
   "source": [
    "`for target in object:\n",
    "     statement_1\n",
    "     if test_1: break # exit the for loop immediately\n",
    "else:                 # run this only when exit normally without hitting break\n",
    "    statement_2    \n",
    "`"
   ]
  },
  {
   "cell_type": "markdown",
   "metadata": {
    "slideshow": {
     "slide_type": "fragment"
    }
   },
   "source": [
    "Computing sum of the list\n",
    "\n",
    "- Iterating the list directly\n",
    "- Iterating through the index"
   ]
  },
  {
   "cell_type": "code",
   "execution_count": null,
   "metadata": {
    "scrolled": true,
    "slideshow": {
     "slide_type": "slide"
    }
   },
   "outputs": [],
   "source": [
    "#iterating the list\n",
    "mylist = [1,2,3,4]\n",
    "mysum = 0\n",
    "\n",
    "for x in mylist:\n",
    "    mysum = mysum + x\n",
    "print(mysum)\n",
    "\n",
    "# this might be a more pythonic way!"
   ]
  },
  {
   "cell_type": "code",
   "execution_count": null,
   "metadata": {
    "slideshow": {
     "slide_type": "fragment"
    }
   },
   "outputs": [],
   "source": [
    "#iterating through index\n",
    "mylist = [1,2,3,4]\n",
    "mysum = 0\n",
    "\n",
    "for i in range(len(mylist)):\n",
    "    mysum = mysum + mylist[i]\n",
    "print(mysum)\n",
    "\n",
    "# this is what you're familiar in Matlab perhaps!"
   ]
  },
  {
   "cell_type": "markdown",
   "metadata": {
    "slideshow": {
     "slide_type": "fragment"
    }
   },
   "source": [
    "By using the `enumerate()` we can actually iterate in both ways simultaneously!"
   ]
  },
  {
   "cell_type": "code",
   "execution_count": 72,
   "metadata": {
    "slideshow": {
     "slide_type": "fragment"
    }
   },
   "outputs": [
    {
     "name": "stdout",
     "output_type": "stream",
     "text": [
      "[1, 2]\n",
      "140268312987120\n",
      "[1, 2]\n",
      "140268312987120\n",
      "[3, 4]\n",
      "140268323182064\n",
      "[3, 4]\n",
      "140268323182064\n"
     ]
    }
   ],
   "source": [
    "mylist = [[1,2],[3,4]] \n",
    "\n",
    "for i,x in enumerate(mylist): # pay attention to the order (i,x)\n",
    "    print(x)\n",
    "    print(id(x))\n",
    "    print(mylist[i])\n",
    "    print(id(mylist[i]))"
   ]
  },
  {
   "cell_type": "markdown",
   "metadata": {
    "slideshow": {
     "slide_type": "slide"
    }
   },
   "source": [
    "Change the elements of list"
   ]
  },
  {
   "cell_type": "code",
   "execution_count": null,
   "metadata": {
    "slideshow": {
     "slide_type": "fragment"
    }
   },
   "outputs": [],
   "source": [
    "mylist = [1,2,3,4]\n",
    "print(id(mylist))\n",
    "\n",
    "for i in range(len(mylist)):\n",
    "    mylist[i] = mylist[i] + 1\n",
    "\n",
    "print(mylist)\n",
    "print(id(mylist))\n"
   ]
  },
  {
   "cell_type": "code",
   "execution_count": null,
   "metadata": {
    "slideshow": {
     "slide_type": "fragment"
    }
   },
   "outputs": [],
   "source": [
    "# this will NOT work -- think why !\n",
    "mylist = [1,2,3,4]\n",
    "\n",
    "for x in mylist:\n",
    "    x = x + 1\n",
    "\n",
    "print(mylist)"
   ]
  },
  {
   "cell_type": "markdown",
   "metadata": {
    "slideshow": {
     "slide_type": "fragment"
    }
   },
   "source": [
    "A more *pythonic* way is through list comprehension\n",
    "\n",
    "`new_list = [A for B in C if D]`"
   ]
  },
  {
   "cell_type": "code",
   "execution_count": null,
   "metadata": {
    "slideshow": {
     "slide_type": "fragment"
    }
   },
   "outputs": [],
   "source": [
    "mylist = [1,2,3,4]\n",
    "print(id(mylist))\n",
    "\n",
    "mylist = [x+1 for x in mylist]\n",
    "\n",
    "print(mylist)\n",
    "print(id(mylist))"
   ]
  },
  {
   "cell_type": "markdown",
   "metadata": {
    "slideshow": {
     "slide_type": "slide"
    }
   },
   "source": [
    "Comprehension is very powerful -- it can also be combined with if statement to 'filter' elements."
   ]
  },
  {
   "cell_type": "code",
   "execution_count": null,
   "metadata": {
    "slideshow": {
     "slide_type": "fragment"
    }
   },
   "outputs": [],
   "source": [
    "# take all the special attributes/names of mylist\n",
    "dir_mylist = dir(mylist)\n",
    "special_names = [name for name in dir_mylist if name.startswith('__')]\n",
    "print(special_names)"
   ]
  },
  {
   "cell_type": "markdown",
   "metadata": {
    "slideshow": {
     "slide_type": "fragment"
    }
   },
   "source": [
    "I highly recommend [this video](https://www.youtube.com/watch?v=OSGv2VnC0go) for writing the pythonic codes. Below are some more sophiscated examples -- in fact, too many loops/conditions in list comprehension can make the code less readable!"
   ]
  },
  {
   "cell_type": "code",
   "execution_count": null,
   "metadata": {
    "slideshow": {
     "slide_type": "fragment"
    }
   },
   "outputs": [],
   "source": [
    "obj = [\"Even\" if i%2==0 else \"Odd\" for i in range(100)]\n",
    "print(obj)"
   ]
  },
  {
   "cell_type": "code",
   "execution_count": null,
   "metadata": {
    "slideshow": {
     "slide_type": "fragment"
    }
   },
   "outputs": [],
   "source": [
    "vec = [[1,2,3], [4,5,6], [7,8,9]]\n",
    "vec_flat = [num for elem in vec for num in elem] \n",
    "print(vec_flat)"
   ]
  },
  {
   "cell_type": "markdown",
   "metadata": {},
   "source": [
    "## Functions"
   ]
  },
  {
   "cell_type": "markdown",
   "metadata": {},
   "source": [
    "### Defining the Function\n",
    "\n",
    "To define the function:\n",
    "\n",
    "`def func_name (arg1, arg2 = value):\n",
    "      statements\n",
    "      return value # if there's no return statement, just return None`       \n",
    "\n",
    "Here `arg1` is the normal argument, while `arg2` has the default value if no object is passed during the call. Note here that the order is important -- normal arguments first, followed by arguments with default values. "
   ]
  },
  {
   "cell_type": "code",
   "execution_count": 85,
   "metadata": {},
   "outputs": [],
   "source": [
    "def simple_function():\n",
    "    '''this is a very simple function with neither input (arguments) nor output (return)'''\n",
    "    pass # pass indicates an empty block of statements"
   ]
  },
  {
   "cell_type": "code",
   "execution_count": 88,
   "metadata": {},
   "outputs": [
    {
     "name": "stdout",
     "output_type": "stream",
     "text": [
      "[None, <function simple_function at 0x7f92c39688c0>]\n"
     ]
    }
   ],
   "source": [
    "y1 = simple_function() # y1 points to the return value\n",
    "y2 = simple_function # y2 points to the function object, later you can just call the function by y2()\n",
    "print([y1,y2])"
   ]
  },
  {
   "cell_type": "code",
   "execution_count": 89,
   "metadata": {},
   "outputs": [
    {
     "data": {
      "text/plain": [
       "NoneType"
      ]
     },
     "execution_count": 89,
     "metadata": {},
     "output_type": "execute_result"
    }
   ],
   "source": [
    "type(None)"
   ]
  },
  {
   "cell_type": "code",
   "execution_count": 90,
   "metadata": {},
   "outputs": [
    {
     "data": {
      "text/plain": [
       "['__annotations__',\n",
       " '__call__',\n",
       " '__class__',\n",
       " '__closure__',\n",
       " '__code__',\n",
       " '__defaults__',\n",
       " '__delattr__',\n",
       " '__dict__',\n",
       " '__dir__',\n",
       " '__doc__',\n",
       " '__eq__',\n",
       " '__format__',\n",
       " '__ge__',\n",
       " '__get__',\n",
       " '__getattribute__',\n",
       " '__globals__',\n",
       " '__gt__',\n",
       " '__hash__',\n",
       " '__init__',\n",
       " '__init_subclass__',\n",
       " '__kwdefaults__',\n",
       " '__le__',\n",
       " '__lt__',\n",
       " '__module__',\n",
       " '__name__',\n",
       " '__ne__',\n",
       " '__new__',\n",
       " '__qualname__',\n",
       " '__reduce__',\n",
       " '__reduce_ex__',\n",
       " '__repr__',\n",
       " '__setattr__',\n",
       " '__sizeof__',\n",
       " '__str__',\n",
       " '__subclasshook__']"
      ]
     },
     "execution_count": 90,
     "metadata": {},
     "output_type": "execute_result"
    }
   ],
   "source": [
    "dir(y2)\n",
    "dir(simple_function) # return the same lists of attributes/methods of our simple_function function object"
   ]
  },
  {
   "cell_type": "code",
   "execution_count": 91,
   "metadata": {},
   "outputs": [
    {
     "data": {
      "text/plain": [
       "'this is a very simple function with neither input (arguments) nor output (return)'"
      ]
     },
     "execution_count": 91,
     "metadata": {},
     "output_type": "execute_result"
    }
   ],
   "source": [
    "y2.__doc__"
   ]
  },
  {
   "cell_type": "code",
   "execution_count": 92,
   "metadata": {},
   "outputs": [
    {
     "name": "stdout",
     "output_type": "stream",
     "text": [
      "Help on function simple_function in module __main__:\n",
      "\n",
      "simple_function()\n",
      "    this is a very simple function with neither input (arguments) nor output (return)\n",
      "\n"
     ]
    }
   ],
   "source": [
    "help(y2)"
   ]
  },
  {
   "cell_type": "markdown",
   "metadata": {},
   "source": [
    "By the way, ``help()``  is very useful for built-in types/functions or other classes/ functions defined in packages."
   ]
  },
  {
   "cell_type": "code",
   "execution_count": 60,
   "metadata": {},
   "outputs": [
    {
     "name": "stdout",
     "output_type": "stream",
     "text": [
      "Help on class list in module builtins:\n",
      "\n",
      "class list(object)\n",
      " |  list(iterable=(), /)\n",
      " |  \n",
      " |  Built-in mutable sequence.\n",
      " |  \n",
      " |  If no argument is given, the constructor creates a new empty list.\n",
      " |  The argument must be an iterable if specified.\n",
      " |  \n",
      " |  Methods defined here:\n",
      " |  \n",
      " |  __add__(self, value, /)\n",
      " |      Return self+value.\n",
      " |  \n",
      " |  __contains__(self, key, /)\n",
      " |      Return key in self.\n",
      " |  \n",
      " |  __delitem__(self, key, /)\n",
      " |      Delete self[key].\n",
      " |  \n",
      " |  __eq__(self, value, /)\n",
      " |      Return self==value.\n",
      " |  \n",
      " |  __ge__(self, value, /)\n",
      " |      Return self>=value.\n",
      " |  \n",
      " |  __getattribute__(self, name, /)\n",
      " |      Return getattr(self, name).\n",
      " |  \n",
      " |  __getitem__(...)\n",
      " |      x.__getitem__(y) <==> x[y]\n",
      " |  \n",
      " |  __gt__(self, value, /)\n",
      " |      Return self>value.\n",
      " |  \n",
      " |  __iadd__(self, value, /)\n",
      " |      Implement self+=value.\n",
      " |  \n",
      " |  __imul__(self, value, /)\n",
      " |      Implement self*=value.\n",
      " |  \n",
      " |  __init__(self, /, *args, **kwargs)\n",
      " |      Initialize self.  See help(type(self)) for accurate signature.\n",
      " |  \n",
      " |  __iter__(self, /)\n",
      " |      Implement iter(self).\n",
      " |  \n",
      " |  __le__(self, value, /)\n",
      " |      Return self<=value.\n",
      " |  \n",
      " |  __len__(self, /)\n",
      " |      Return len(self).\n",
      " |  \n",
      " |  __lt__(self, value, /)\n",
      " |      Return self<value.\n",
      " |  \n",
      " |  __mul__(self, value, /)\n",
      " |      Return self*value.\n",
      " |  \n",
      " |  __ne__(self, value, /)\n",
      " |      Return self!=value.\n",
      " |  \n",
      " |  __repr__(self, /)\n",
      " |      Return repr(self).\n",
      " |  \n",
      " |  __reversed__(self, /)\n",
      " |      Return a reverse iterator over the list.\n",
      " |  \n",
      " |  __rmul__(self, value, /)\n",
      " |      Return value*self.\n",
      " |  \n",
      " |  __setitem__(self, key, value, /)\n",
      " |      Set self[key] to value.\n",
      " |  \n",
      " |  __sizeof__(self, /)\n",
      " |      Return the size of the list in memory, in bytes.\n",
      " |  \n",
      " |  append(self, object, /)\n",
      " |      Append object to the end of the list.\n",
      " |  \n",
      " |  clear(self, /)\n",
      " |      Remove all items from list.\n",
      " |  \n",
      " |  copy(self, /)\n",
      " |      Return a shallow copy of the list.\n",
      " |  \n",
      " |  count(self, value, /)\n",
      " |      Return number of occurrences of value.\n",
      " |  \n",
      " |  extend(self, iterable, /)\n",
      " |      Extend list by appending elements from the iterable.\n",
      " |  \n",
      " |  index(self, value, start=0, stop=9223372036854775807, /)\n",
      " |      Return first index of value.\n",
      " |      \n",
      " |      Raises ValueError if the value is not present.\n",
      " |  \n",
      " |  insert(self, index, object, /)\n",
      " |      Insert object before index.\n",
      " |  \n",
      " |  pop(self, index=-1, /)\n",
      " |      Remove and return item at index (default last).\n",
      " |      \n",
      " |      Raises IndexError if list is empty or index is out of range.\n",
      " |  \n",
      " |  remove(self, value, /)\n",
      " |      Remove first occurrence of value.\n",
      " |      \n",
      " |      Raises ValueError if the value is not present.\n",
      " |  \n",
      " |  reverse(self, /)\n",
      " |      Reverse *IN PLACE*.\n",
      " |  \n",
      " |  sort(self, /, *, key=None, reverse=False)\n",
      " |      Stable sort *IN PLACE*.\n",
      " |  \n",
      " |  ----------------------------------------------------------------------\n",
      " |  Static methods defined here:\n",
      " |  \n",
      " |  __new__(*args, **kwargs) from builtins.type\n",
      " |      Create and return a new object.  See help(type) for accurate signature.\n",
      " |  \n",
      " |  ----------------------------------------------------------------------\n",
      " |  Data and other attributes defined here:\n",
      " |  \n",
      " |  __hash__ = None\n",
      "\n"
     ]
    }
   ],
   "source": [
    "help(list)"
   ]
  },
  {
   "cell_type": "code",
   "execution_count": 61,
   "metadata": {},
   "outputs": [
    {
     "name": "stdout",
     "output_type": "stream",
     "text": [
      "Help on built-in function abs in module builtins:\n",
      "\n",
      "abs(x, /)\n",
      "    Return the absolute value of the argument.\n",
      "\n"
     ]
    }
   ],
   "source": [
    "help(abs)"
   ]
  },
  {
   "cell_type": "markdown",
   "metadata": {},
   "source": [
    "Let's see what does the return statement do here."
   ]
  },
  {
   "cell_type": "code",
   "execution_count": 35,
   "metadata": {},
   "outputs": [],
   "source": [
    "def create_list():\n",
    "    mylist = [1,2,3]\n",
    "    print(id(mylist))\n",
    "    return mylist  #The return statement just pass the object to output"
   ]
  },
  {
   "cell_type": "code",
   "execution_count": 36,
   "metadata": {},
   "outputs": [
    {
     "name": "stdout",
     "output_type": "stream",
     "text": [
      "140268313135296\n",
      "140268313135296\n"
     ]
    }
   ],
   "source": [
    "output_list = create_list()\n",
    "print(id(output_list))"
   ]
  },
  {
   "cell_type": "markdown",
   "metadata": {},
   "source": [
    "### Argument Passing: Passing by *Object Reference* in Python\n",
    "\n",
    "In Matlab, the arguments are usually **passed by value** in the functions. However, Python functions **pass the arguments by object reference**. \n",
    "\n",
    "For simplicity, below we do not discuss the global variables here (As the famous saying goes, *global variables are evil in object-oriented languages*).\n",
    "\n",
    "In Python, suppose we have an object named ``obj_python`` that is passed to a function ``func(obj_func)``. What does the function do is create a new name (identifier) by ``obj_func = obj_python`` that points to the **same object** (instead of creating a new object!). All the statements within function are then executed with the name (identifier) ``obj_fun``, and the name ``obj_fun`` will be destroyed after calling the function. \n",
    "\n",
    "- For *mutable objects*, the modification with ``obj_fun`` inside the function may change the value of object, which is pointed by the name ``obj_python`` outside the function. \n",
    "- For *immutable objects*, since the value cannot be modified once the object is created, the function will not affect the object pointed by ``obj_python``.\n",
    "- That's why some people say in Python, the immutable objects are passed by values, while the mutable objects are passed by reference or pointer -- they are indeed the ''net effects''. In fact, these observations are the reflections of **passing by object reference** mechanism in Python."
   ]
  },
  {
   "cell_type": "code",
   "execution_count": 76,
   "metadata": {},
   "outputs": [],
   "source": [
    "def modify_list(mylist): \n",
    "    '''modify the first element of list '''\n",
    "    print(id(mylist))\n",
    "    mylist[0] = 100 # Note here we don't return anything (or return None)"
   ]
  },
  {
   "cell_type": "code",
   "execution_count": 77,
   "metadata": {},
   "outputs": [
    {
     "name": "stdout",
     "output_type": "stream",
     "text": [
      "140268323451280\n",
      "140268323451280\n",
      "None\n",
      "[100, 2, 3]\n",
      "140268323451280\n"
     ]
    }
   ],
   "source": [
    "mylist1 = [1,2,3]\n",
    "print(id(mylist1))\n",
    "\n",
    "y = modify_list(mylist1) #by calling the function, we have another results printed\n",
    "\n",
    "print(y)\n",
    "print(mylist1)\n",
    "print(id(mylist1))"
   ]
  },
  {
   "cell_type": "markdown",
   "metadata": {},
   "source": [
    "This reminds us about the `reverse()` or `sort()` methods of `list` that we talked about in the last lecture."
   ]
  },
  {
   "cell_type": "code",
   "execution_count": 78,
   "metadata": {},
   "outputs": [],
   "source": [
    "def modify_list_complete(mylist):\n",
    "    '''modify the list completely by creating a new one, without return'''\n",
    "    mylist = [100,2,3]"
   ]
  },
  {
   "cell_type": "code",
   "execution_count": 44,
   "metadata": {},
   "outputs": [
    {
     "name": "stdout",
     "output_type": "stream",
     "text": [
      "[1, 2, 3]\n"
     ]
    }
   ],
   "source": [
    "mylist = [1,2,3]\n",
    "modify_list_complete(mylist)\n",
    "print(mylist)"
   ]
  },
  {
   "cell_type": "code",
   "execution_count": 79,
   "metadata": {},
   "outputs": [],
   "source": [
    "def modify_list_complete_new(mylist):\n",
    "    '''modify the list completely by creating a new one, and return'''\n",
    "    mylist = [100,2,3]\n",
    "    return mylist"
   ]
  },
  {
   "cell_type": "code",
   "execution_count": 48,
   "metadata": {},
   "outputs": [
    {
     "name": "stdout",
     "output_type": "stream",
     "text": [
      "[1, 2, 3]\n",
      "[100, 2, 3]\n"
     ]
    }
   ],
   "source": [
    "mylist = [1,2,3]\n",
    "y = modify_list_complete_new(mylist)\n",
    "print(mylist)\n",
    "print(y)"
   ]
  },
  {
   "cell_type": "markdown",
   "metadata": {},
   "source": [
    "Now use the following example to test if you really understand :"
   ]
  },
  {
   "cell_type": "code",
   "execution_count": 80,
   "metadata": {},
   "outputs": [
    {
     "name": "stdout",
     "output_type": "stream",
     "text": [
      "1\n",
      "[1000, 2, 3]\n",
      "1\n",
      "[1, 2, 3]\n"
     ]
    }
   ],
   "source": [
    "def modifier(myint, mylist): \n",
    "    '''modify the immutable integer and mutable list simultaneously'''\n",
    "    myint = 1000\n",
    "    mylist[0] = 1000\n",
    "\n",
    "    \n",
    "a = 1\n",
    "b = [1,2,3]\n",
    "\n",
    "modifier(a,b)\n",
    "print(a)\n",
    "print(b)\n",
    "\n",
    "a = 1\n",
    "b = [1,2,3]\n",
    "\n",
    "modifier(a,b.copy())\n",
    "print(a)\n",
    "print(b)"
   ]
  },
  {
   "cell_type": "markdown",
   "metadata": {},
   "source": [
    "### Calling the Function"
   ]
  },
  {
   "cell_type": "markdown",
   "metadata": {},
   "source": [
    "Let's learn through this example."
   ]
  },
  {
   "cell_type": "code",
   "execution_count": 73,
   "metadata": {},
   "outputs": [],
   "source": [
    "def func(a, b, c=3, d=4):\n",
    "    print([a, b, c, d])"
   ]
  },
  {
   "cell_type": "code",
   "execution_count": 74,
   "metadata": {},
   "outputs": [
    {
     "name": "stdout",
     "output_type": "stream",
     "text": [
      "[1, 2, 3, 4]\n",
      "[1, 2, 3, 4]\n",
      "[1, 0, 0, 4]\n"
     ]
    }
   ],
   "source": [
    "func(1, 2) # a=1, b=2\n",
    "\n",
    "func(1, 2, 3, 4) # a=1, b=2, c=3, d=4\n",
    "\n",
    "func(1, c=0, b=0) # a=1, b=0, c=0, d=4"
   ]
  },
  {
   "cell_type": "markdown",
   "metadata": {},
   "source": [
    "### Lambda Function\n",
    "\n",
    "Lambda function provides a convenient way for defining simple functions. [Despite its simplicity, Guido Van Rossum used to consider remove it in Python 3](https://philip-trauner.me/blog/post/python-quirks-lambdas)."
   ]
  },
  {
   "cell_type": "code",
   "execution_count": 98,
   "metadata": {},
   "outputs": [
    {
     "name": "stdout",
     "output_type": "stream",
     "text": [
      "[0, 1, 4, 9, 16, 25, 36, 49, 64, 81]\n"
     ]
    }
   ],
   "source": [
    "f_square = lambda x: x*x\n",
    "\n",
    "mylist = list(range(10))\n",
    "mylist_square = [f_square(x) for x in mylist]\n",
    "print(mylist_square)"
   ]
  }
 ],
 "metadata": {
  "kernelspec": {
   "display_name": "Python 3",
   "language": "python",
   "name": "python3"
  },
  "language_info": {
   "codemirror_mode": {
    "name": "ipython",
    "version": 3
   },
   "file_extension": ".py",
   "mimetype": "text/x-python",
   "name": "python",
   "nbconvert_exporter": "python",
   "pygments_lexer": "ipython3",
   "version": "3.7.6"
  }
 },
 "nbformat": 4,
 "nbformat_minor": 4
}
