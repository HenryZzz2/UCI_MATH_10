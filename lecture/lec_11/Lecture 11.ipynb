{
 "cells": [
  {
   "cell_type": "markdown",
   "metadata": {},
   "source": [
    "# Lecture 11: Logistic Regression and Classification"
   ]
  },
  {
   "cell_type": "markdown",
   "metadata": {},
   "source": [
    "In classification problem, the response variables $y$ are discrete, representing different catagories. For simplicity, we will first introduce the **binary classification case** -- $y$ has only two categories, denoted as $0$ and $1$."
   ]
  },
  {
   "cell_type": "markdown",
   "metadata": {},
   "source": [
    "## Model-setup"
   ]
  },
  {
   "cell_type": "markdown",
   "metadata": {},
   "source": [
    "**Assumption 1**: Dependent on the variable $x$, the response variable $y$ has different **probabilities** to take value in 0 or 1. Instead of predicting exact value of 0 or 1, we are actually predicting the **probabilities**.\n",
    "\n",
    "**Assumption 2**: Logistic function assumption.\n",
    "\n",
    "$$P(y=1|\\mathbf{x})=f(\\mathbf{x};\\mathbf{\\beta}) = \\frac{1}{1 + \\exp(-\\tilde{x}\\mathbf{\\beta})}\n",
    "=: \\sigma(\\tilde{x}\\mathbf{\\beta}). $$\n",
    "\n",
    "where $\\sigma(z)=\\frac{1}{1+\\exp{(-x)}}$ is called [standard logistic function](https://en.wikipedia.org/wiki/Logistic_regression#:~:text=Logistic%20regression%20is%20a%20statistical,a%20form%20of%20binary%20regression).\n",
    "\n",
    "**Equivalent expression**:\n",
    "  - Denote $p = P(y=1|\\mathbf{x})$, then we can write in linear form\n",
    "  $$\\ln\\frac{p}{1-p}=\\tilde{x}\\beta$$\n",
    "  - Since $y$ only takes value in 0 or 1, we have\n",
    "  $$P(y|\\mathbf{x},\\beta) = f(\\mathbf{x};\\beta)^y \\big(1 - f(\\mathbf{x};\\beta) \\big)^{1-y}$$\n",
    "  \n",
    "**MLE (Maximum Likelihood Estimation)**\n",
    "\n",
    "Assume the samples are independent. The overall probibility to witness the whole training dataset\n",
    "$$\n",
    "{\\begin{aligned}\n",
    "&P(\\mathbf{y}\\; | \\; \\mathbf{X};\\beta )\\\\\n",
    "=&\\prod _{i=1}^N P\\left(y^{(i)}\\mid \\mathbf{x}^{(i)};\\beta\\right)\\\\\n",
    "=&\\prod_{i=1}^N f\\big(\\mathbf{x}^{(i)};\\beta \\big)^{y^{(i)}} \n",
    "\\Big(1-f\\big(\\mathbf{x}^{(i)};\\beta\\big) \\Big)^{\\big(1-y^{(i)}\\big)}\n",
    "\\end{aligned}}.\n",
    "$$\n",
    "\n",
    "Then we derive the loss function\n",
    "$$\n",
    "L (\\beta) = L (\\beta; X,\\mathbf{y}) = - \\frac{1}{N}\\sum_{i=1}^N \n",
    "\\Bigl\\{y^{(i)} \\ln\\big( f(\\mathbf{x}^{(i)};\\beta) \\big) \n",
    "+ (1 - y^{(i)}) \\ln\\big( 1 - f(\\mathbf{x}^{(i)};\\beta) \\big) \\Bigr\\}.\n",
    "$$"
   ]
  },
  {
   "cell_type": "markdown",
   "metadata": {},
   "source": [
    "## Algorithm"
   ]
  },
  {
   "cell_type": "markdown",
   "metadata": {},
   "source": [
    "Take the gradient (left as exercise -- if you like)\n",
    "$$\n",
    "\\frac{\\partial L (\\beta)}{\\partial \\beta_{k}} =\\frac{1}{N}\\sum_{i=1}^N  \\big(\\sigma(\\tilde{x}^{(i)}\\beta)  - y^{(i)} \\big) \\tilde{x}^{(i)}_k.\n",
    "$$\n",
    "\n",
    "In vector form\n",
    "$$\n",
    "\\nabla_{\\beta} \\big( L (\\beta) \\big) = \\sum_{i=1}^N  \\big(\\sigma(\\tilde{x}^{(i)})  - y^{(i)} \\big) \\tilde{x}^{(i)} \n",
    "=\\frac{1}{N}\\sum_{i=1}^N \\big( f(\\mathbf{x}^{(i)};\\beta)  - y^{(i)} \\big) \\tilde{x}^{(i)}.\n",
    "$$"
   ]
  }
 ],
 "metadata": {
  "kernelspec": {
   "display_name": "Python 3",
   "language": "python",
   "name": "python3"
  },
  "language_info": {
   "codemirror_mode": {
    "name": "ipython",
    "version": 3
   },
   "file_extension": ".py",
   "mimetype": "text/x-python",
   "name": "python",
   "nbconvert_exporter": "python",
   "pygments_lexer": "ipython3",
   "version": "3.7.6"
  }
 },
 "nbformat": 4,
 "nbformat_minor": 4
}
