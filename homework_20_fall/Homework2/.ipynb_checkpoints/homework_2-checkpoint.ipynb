{
 "cells": [
  {
   "cell_type": "markdown",
   "metadata": {},
   "source": [
    "# Homework 2\n",
    "###  your name and id\n",
    "\n",
    "This homework has three problems. Please fill the code block cells with your code and comments, ***run*** everything (select `cell` in the menu, and click `Run all`), save the notebook, and upload it to canvas."
   ]
  },
  {
   "cell_type": "markdown",
   "metadata": {},
   "source": [
    "## Problem 1: List Manipulation\n",
    "\n",
    "Write the codes in one cell to exeucte the following tasks:\n",
    "\n",
    "1. Create a list object with all odd numbers from 1 to 100, name it `mylist` (hint: you can use list comprehension here -- of course other solutions are also welcome)\n",
    "2. Print the identity of `mylist`\n",
    "3. Append integer 2 to `mylist`\n",
    "4. Print the identity of `mylist`\n",
    "5. Sort the `mylist` with ascending order\n",
    "6. Print the identity of `mylist`\n",
    "7. Print `mylist`"
   ]
  },
  {
   "cell_type": "code",
   "execution_count": null,
   "metadata": {},
   "outputs": [],
   "source": [
    "# write your code and explanations here"
   ]
  },
  {
   "cell_type": "markdown",
   "metadata": {},
   "source": [
    "## Problem 2: Divisor Generator\n",
    "\n",
    "1. Write a function named `divisor_generator` which takes a positive integer as input, and return a list of **all** its positive divisors.\n",
    "2. Test your function by printing the results of `divisor_generator(202010)`\n",
    "\n",
    "*Hint*: \n",
    "\n",
    "1. You can indeed write a nearly one-line solution using list comprehension -- think of it!\n",
    "\n",
    "2. For a more efficient implementation, you might only need iterate for integers not greater than the square root of n -- think why!"
   ]
  },
  {
   "cell_type": "code",
   "execution_count": 35,
   "metadata": {},
   "outputs": [],
   "source": [
    "# write your code and explanations here"
   ]
  },
  {
   "cell_type": "markdown",
   "metadata": {},
   "source": [
    "## Problem 3: Prime Number\n",
    "1. Write a function named `is_prime` which takes a positive integer as input, and return True if it is prime number and False otherwise.\n",
    "2. Use this function to generate a list named `primelist` that contains prime numbers less than 1000."
   ]
  },
  {
   "cell_type": "code",
   "execution_count": null,
   "metadata": {},
   "outputs": [],
   "source": [
    "# write your code and explanations here"
   ]
  }
 ],
 "metadata": {
  "kernelspec": {
   "display_name": "Python 3",
   "language": "python",
   "name": "python3"
  },
  "language_info": {
   "codemirror_mode": {
    "name": "ipython",
    "version": 3
   },
   "file_extension": ".py",
   "mimetype": "text/x-python",
   "name": "python",
   "nbconvert_exporter": "python",
   "pygments_lexer": "ipython3",
   "version": "3.7.6"
  }
 },
 "nbformat": 4,
 "nbformat_minor": 4
}
