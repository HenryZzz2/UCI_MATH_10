{
 "cells": [
  {
   "cell_type": "markdown",
   "metadata": {
    "slideshow": {
     "slide_type": "slide"
    }
   },
   "source": [
    "# Lecture 5: Control Flows and Functions"
   ]
  },
  {
   "cell_type": "markdown",
   "metadata": {
    "slideshow": {
     "slide_type": "subslide"
    }
   },
   "source": [
    "## Control Flows"
   ]
  },
  {
   "cell_type": "markdown",
   "metadata": {
    "slideshow": {
     "slide_type": "fragment"
    }
   },
   "source": [
    "In a typical programming language, the major control flows include **Choice** and **Loop**."
   ]
  },
  {
   "cell_type": "markdown",
   "metadata": {
    "slideshow": {
     "slide_type": "fragment"
    }
   },
   "source": [
    "### Choice and `if` loops in Python"
   ]
  },
  {
   "cell_type": "markdown",
   "metadata": {
    "slideshow": {
     "slide_type": "fragment"
    }
   },
   "source": [
    "General form:\n",
    "\n",
    "`if test_1:     # test_1 should return a boolean result -- don't forget the colon: here\n",
    "    statement_1 # associated block of test_1 -- don't forget the indentation here\n",
    " elif test_2:   # optional, if we have multiple branches\n",
    "    statement_2\n",
    " else:          # optional\n",
    "    statement_3\n",
    "`"
   ]
  },
  {
   "cell_type": "code",
   "execution_count": 3,
   "metadata": {
    "slideshow": {
     "slide_type": "fragment"
    }
   },
   "outputs": [
    {
     "ename": "IndentationError",
     "evalue": "expected an indented block (<ipython-input-3-ce71ffcf6823>, line 4)",
     "output_type": "error",
     "traceback": [
      "\u001b[0;36m  File \u001b[0;32m\"<ipython-input-3-ce71ffcf6823>\"\u001b[0;36m, line \u001b[0;32m4\u001b[0m\n\u001b[0;31m    print('positive number')\u001b[0m\n\u001b[0m        ^\u001b[0m\n\u001b[0;31mIndentationError\u001b[0m\u001b[0;31m:\u001b[0m expected an indented block\n"
     ]
    }
   ],
   "source": [
    "x = -5\n",
    "\n",
    "if x > 0:\n",
    "    print('positive number')\n",
    "elif x == 0:  # using == to test the equivalence of values\n",
    "    print('zero')\n",
    "else:\n",
    "    print('negative number')    "
   ]
  },
  {
   "cell_type": "code",
   "execution_count": 4,
   "metadata": {
    "slideshow": {
     "slide_type": "fragment"
    }
   },
   "outputs": [
    {
     "name": "stdout",
     "output_type": "stream",
     "text": [
      "x is in the list\n"
     ]
    }
   ],
   "source": [
    "x = 1\n",
    "mylist = [1,2,3]\n",
    "\n",
    "if x in mylist: # using keyword \"in\" to test if x is the element of list \n",
    "    print('x is in the list')\n",
    "else:\n",
    "    print('x is not in the list')"
   ]
  },
  {
   "cell_type": "code",
   "execution_count": 5,
   "metadata": {
    "slideshow": {
     "slide_type": "fragment"
    }
   },
   "outputs": [
    {
     "name": "stdout",
     "output_type": "stream",
     "text": [
      "non-zero number\n"
     ]
    }
   ],
   "source": [
    "x = 10\n",
    "if x > 0 or x < 0: ##  \"and,or,not\" are three typical boolean expressions in python\n",
    "    print('non-zero number')\n",
    "else:\n",
    "    print('zero number')   "
   ]
  },
  {
   "cell_type": "code",
   "execution_count": null,
   "metadata": {
    "slideshow": {
     "slide_type": "fragment"
    }
   },
   "outputs": [],
   "source": [
    "x = 10\n",
    "if not x == 0: # or you can write if x!=0        \n",
    "    print('non-zero number')\n",
    "else:\n",
    "    print('zero number')   "
   ]
  },
  {
   "cell_type": "markdown",
   "metadata": {
    "slideshow": {
     "slide_type": "slide"
    }
   },
   "source": [
    "### Loop: `while`\n",
    "\n",
    "`while test:  # test returns a boolean\n",
    "    statement_1\n",
    "else:             # a special feature about python that is overlooked! Use it in combination with break/continue \n",
    "    statement_2\n",
    "`"
   ]
  },
  {
   "cell_type": "code",
   "execution_count": 6,
   "metadata": {
    "slideshow": {
     "slide_type": "fragment"
    }
   },
   "outputs": [
    {
     "name": "stdout",
     "output_type": "stream",
     "text": [
      "140268322210192\n",
      "140268322210192\n",
      "140268322210192\n",
      "140268322210192\n",
      "140268322210192\n",
      "140268322210192\n",
      "140268322210192\n",
      "140268322210192\n",
      "140268322210192\n",
      "140268322210192\n",
      "[0, 1, 2, 3, 4, 5, 6, 7, 8, 9]\n"
     ]
    }
   ],
   "source": [
    "n = 0 \n",
    "mylist = [] # create an empty list\n",
    "while n < 10:\n",
    "    mylist.append(n) # the code to be executed if n < 10\n",
    "    n = n + 1 # increase the counter by 1\n",
    "    print(id(mylist))\n",
    "    \n",
    "print(mylist) # this line is no longer in the while loop!"
   ]
  },
  {
   "cell_type": "code",
   "execution_count": 9,
   "metadata": {
    "slideshow": {
     "slide_type": "fragment"
    }
   },
   "outputs": [
    {
     "name": "stdout",
     "output_type": "stream",
     "text": [
      "y is not prime\n",
      "5\n"
     ]
    }
   ],
   "source": [
    "# determine whether y is prime\n",
    "y = 10\n",
    "x = y // 2 # Why? Can it be improved?\n",
    "while x > 1:\n",
    "    if y % x == 0: # Reminder\n",
    "        print('y is not prime')\n",
    "        break      # exit the while loop immediately\n",
    "    else:          # this else is for if\n",
    "        x = x-1\n",
    "else:              # this else is for while -- run this if only there is normal exit without hitting the break\n",
    "    print('y is prime') # what if this statement is not in the else block?\n",
    "\n",
    "print(x)        "
   ]
  },
  {
   "cell_type": "markdown",
   "metadata": {
    "slideshow": {
     "slide_type": "slide"
    }
   },
   "source": [
    "### Loop: `for`"
   ]
  },
  {
   "cell_type": "markdown",
   "metadata": {
    "slideshow": {
     "slide_type": "fragment"
    }
   },
   "source": [
    "`for target in object:\n",
    "     statement_1\n",
    "     if test_1: break # exit the for loop immediately\n",
    "else:                 # run this only when exit normally without hitting break\n",
    "    statement_2    \n",
    "`"
   ]
  },
  {
   "cell_type": "markdown",
   "metadata": {
    "slideshow": {
     "slide_type": "fragment"
    }
   },
   "source": [
    "Computing sum of the list\n",
    "\n",
    "- Iterating the list directly\n",
    "- Iterating through the index"
   ]
  },
  {
   "cell_type": "code",
   "execution_count": null,
   "metadata": {
    "scrolled": true,
    "slideshow": {
     "slide_type": "slide"
    }
   },
   "outputs": [],
   "source": [
    "#iterating the list\n",
    "mylist = [1,2,3,4]\n",
    "mysum = 0\n",
    "\n",
    "for x in mylist:\n",
    "    mysum = mysum + x\n",
    "print(mysum)\n",
    "\n",
    "# this might be a more pythonic way!"
   ]
  },
  {
   "cell_type": "code",
   "execution_count": null,
   "metadata": {
    "slideshow": {
     "slide_type": "fragment"
    }
   },
   "outputs": [],
   "source": [
    "#iterating through index\n",
    "mylist = [1,2,3,4]\n",
    "mysum = 0\n",
    "\n",
    "for i in range(len(mylist)):\n",
    "    mysum = mysum + mylist[i]\n",
    "print(mysum)\n",
    "\n",
    "# this is what you're familiar in Matlab perhaps!"
   ]
  },
  {
   "cell_type": "markdown",
   "metadata": {
    "slideshow": {
     "slide_type": "fragment"
    }
   },
   "source": [
    "By using the `enumerate()` we can actually iterate in both ways simultaneously!"
   ]
  },
  {
   "cell_type": "code",
   "execution_count": null,
   "metadata": {
    "slideshow": {
     "slide_type": "fragment"
    }
   },
   "outputs": [],
   "source": [
    "mylist = [[1,2],[3,4]] \n",
    "\n",
    "for (i,x) in enumerate(mylist): # pay attention to the order (i,x)\n",
    "    print(x)\n",
    "    print(id(x))\n",
    "    print(mylist[i])\n",
    "    print(id(mylist[i]))"
   ]
  },
  {
   "cell_type": "markdown",
   "metadata": {
    "slideshow": {
     "slide_type": "slide"
    }
   },
   "source": [
    "Change the elements of list"
   ]
  },
  {
   "cell_type": "code",
   "execution_count": null,
   "metadata": {
    "slideshow": {
     "slide_type": "fragment"
    }
   },
   "outputs": [],
   "source": [
    "mylist = [1,2,3,4]\n",
    "print(id(mylist))\n",
    "\n",
    "for i in range(len(mylist)):\n",
    "    mylist[i] = mylist[i] + 1\n",
    "\n",
    "print(mylist)\n",
    "print(id(mylist))\n"
   ]
  },
  {
   "cell_type": "code",
   "execution_count": null,
   "metadata": {
    "slideshow": {
     "slide_type": "fragment"
    }
   },
   "outputs": [],
   "source": [
    "# this will NOT work -- think why !\n",
    "mylist = [1,2,3,4]\n",
    "\n",
    "for x in mylist:\n",
    "    x = x + 1\n",
    "\n",
    "print(mylist)"
   ]
  },
  {
   "cell_type": "markdown",
   "metadata": {
    "slideshow": {
     "slide_type": "fragment"
    }
   },
   "source": [
    "A more *pythonic* way is through list comprehension\n",
    "\n",
    "`new_list = [A for B in C if D]`"
   ]
  },
  {
   "cell_type": "code",
   "execution_count": null,
   "metadata": {
    "slideshow": {
     "slide_type": "fragment"
    }
   },
   "outputs": [],
   "source": [
    "mylist = [1,2,3,4]\n",
    "print(id(mylist))\n",
    "\n",
    "mylist = [x+1 for x in mylist]\n",
    "\n",
    "print(mylist)\n",
    "print(id(mylist))"
   ]
  },
  {
   "cell_type": "markdown",
   "metadata": {
    "slideshow": {
     "slide_type": "slide"
    }
   },
   "source": [
    "comprehension is very powerful -- it can also be combined with if statement"
   ]
  },
  {
   "cell_type": "code",
   "execution_count": null,
   "metadata": {
    "slideshow": {
     "slide_type": "fragment"
    }
   },
   "outputs": [],
   "source": [
    "# take all the special attributes/names of mylist\n",
    "dir_mylist = dir(mylist)\n",
    "special_names = [name for name in dir_mylist if name.startswith('__')]\n",
    "print(special_names)"
   ]
  },
  {
   "cell_type": "markdown",
   "metadata": {
    "slideshow": {
     "slide_type": "fragment"
    }
   },
   "source": [
    "I highly recommend [this video](https://www.youtube.com/watch?v=OSGv2VnC0go) for writing the pythonic codes."
   ]
  },
  {
   "cell_type": "code",
   "execution_count": null,
   "metadata": {
    "slideshow": {
     "slide_type": "fragment"
    }
   },
   "outputs": [],
   "source": [
    "obj = [\"Even\" if i%2==0 else \"Odd\" for i in range(100)]\n",
    "print(obj)"
   ]
  },
  {
   "cell_type": "code",
   "execution_count": null,
   "metadata": {
    "slideshow": {
     "slide_type": "fragment"
    }
   },
   "outputs": [],
   "source": [
    "vec = [[1,2,3], [4,5,6], [7,8,9]]\n",
    "vec_flat = [num for elem in vec for num in elem] \n",
    "print(vec_flat)"
   ]
  }
 ],
 "metadata": {
  "celltoolbar": "幻灯片",
  "kernelspec": {
   "display_name": "Python 3",
   "language": "python",
   "name": "python3"
  },
  "language_info": {
   "codemirror_mode": {
    "name": "ipython",
    "version": 3
   },
   "file_extension": ".py",
   "mimetype": "text/x-python",
   "name": "python",
   "nbconvert_exporter": "python",
   "pygments_lexer": "ipython3",
   "version": "3.7.6"
  }
 },
 "nbformat": 4,
 "nbformat_minor": 4
}
