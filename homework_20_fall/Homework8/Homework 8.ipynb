{
 "cells": [
  {
   "cell_type": "markdown",
   "metadata": {},
   "source": [
    "# Homework 8\n",
    "### your name and id"
   ]
  },
  {
   "cell_type": "markdown",
   "metadata": {},
   "source": [
    "In this homework, please feel free to call the functions in sklean.\n",
    "\n",
    "Basic Requirements:\n",
    "1. load the hand-written digit data, and split train and test datasets (follow the last homework);\n",
    "2. Fit the kNN and random forest model separately on training data, and report the performance on test data -- you don't have to tune the parameters for basic requirements, choosing the parameters as you like;\n",
    "3. Compare the performace with logistic regression;\n",
    "4. Write some comments in the code, OR use markdown paragraphs to indicate what you are doing in the specific step.\n",
    "\n",
    "Optional Task:\n",
    "Using cross-validations to select the parameters when fitting the model."
   ]
  },
  {
   "cell_type": "code",
   "execution_count": null,
   "metadata": {},
   "outputs": [],
   "source": [
    "# write your code and comments here"
   ]
  }
 ],
 "metadata": {
  "kernelspec": {
   "display_name": "Python 3",
   "language": "python",
   "name": "python3"
  },
  "language_info": {
   "codemirror_mode": {
    "name": "ipython",
    "version": 3
   },
   "file_extension": ".py",
   "mimetype": "text/x-python",
   "name": "python",
   "nbconvert_exporter": "python",
   "pygments_lexer": "ipython3",
   "version": "3.7.6"
  }
 },
 "nbformat": 4,
 "nbformat_minor": 4
}
