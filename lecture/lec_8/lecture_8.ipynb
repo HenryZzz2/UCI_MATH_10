{
 "cells": [
  {
   "cell_type": "markdown",
   "metadata": {},
   "source": [
    "# Lecture 8 Matplotlib and Image Processing\n",
    "\n",
    "## Matplotlib\n",
    "\n",
    "[Matplotlib](https://matplotlib.org/) serves as the package to produce publication-quality figures in Python, and provides [interface closely resembling to matlab](https://matplotlib.org/tutorials/introductory/pyplot.html)."
   ]
  },
  {
   "cell_type": "code",
   "execution_count": null,
   "metadata": {},
   "outputs": [],
   "source": [
    "import matplotlib as mpl # import whole package\n",
    "import matplotlib.pyplot as plt # or just import submodule pylot, providing matlab-like functions\n",
    "# these are \"standard shorthands\", though some poeple use other nicknames"
   ]
  },
  {
   "cell_type": "code",
   "execution_count": null,
   "metadata": {},
   "outputs": [],
   "source": [
    "dir(mpl)"
   ]
  },
  {
   "cell_type": "code",
   "execution_count": null,
   "metadata": {},
   "outputs": [],
   "source": [
    "dir(plt)"
   ]
  },
  {
   "cell_type": "markdown",
   "metadata": {},
   "source": [
    "Of course you can explore the [Github](https://github.com/matplotlib/matplotlib/tree/master/lib/matplotlib) to see the source codes if you like."
   ]
  },
  {
   "cell_type": "code",
   "execution_count": null,
   "metadata": {},
   "outputs": [],
   "source": [
    "help(plt.plot)"
   ]
  },
  {
   "cell_type": "markdown",
   "metadata": {},
   "source": [
    "Basic usage of pyplot: Very similiar to Matlab"
   ]
  },
  {
   "cell_type": "code",
   "execution_count": null,
   "metadata": {},
   "outputs": [],
   "source": [
    "import numpy as np\n",
    "x = np.linspace(0, 10, 100)\n",
    "fig = plt.figure(figsize=(8, 6)) # create the figure, just like figure() in matlab\n",
    "plt.plot(x, np.sin(x), linestyle = '-',color = 'b',label='sin')  # label is used for legend\n",
    "plt.plot(x, np.cos(x), '--g', label = 'cos')\n",
    "plt.xlim(-1, 11)\n",
    "plt.title(\"A Sine Curve\")\n",
    "plt.xlabel('x') \n",
    "plt.ylabel(\"sin(x)\")\n",
    "plt.legend()"
   ]
  },
  {
   "cell_type": "markdown",
   "metadata": {},
   "source": [
    "Of course there is some object-oriented feature."
   ]
  },
  {
   "cell_type": "code",
   "execution_count": null,
   "metadata": {},
   "outputs": [],
   "source": [
    "type(fig)"
   ]
  },
  {
   "cell_type": "code",
   "execution_count": null,
   "metadata": {},
   "outputs": [],
   "source": [
    "dir(fig)"
   ]
  },
  {
   "cell_type": "code",
   "execution_count": null,
   "metadata": {},
   "outputs": [],
   "source": [
    "fig.savefig('myfigure.png') # savefig is just a method of instance fig!"
   ]
  },
  {
   "cell_type": "markdown",
   "metadata": {},
   "source": [
    "The object-oriented feature is more evident in making subplots. [Explore more usages here](https://matplotlib.org/3.1.0/gallery/subplots_axes_and_figures/subplots_demo.html)."
   ]
  },
  {
   "cell_type": "code",
   "execution_count": null,
   "metadata": {},
   "outputs": [],
   "source": [
    "# subplots\n",
    "fig, ax = plt.subplots(2, dpi = 100)\n",
    "ax[0].plot(x, np.sin(x)) # plot and set_title are the methods of ax[0] -axes\n",
    "ax[0].set_title('sin')\n",
    "ax[1].plot(x, np.cos(x))\n",
    "ax[1].set_title('cos')"
   ]
  },
  {
   "cell_type": "markdown",
   "metadata": {},
   "source": [
    "[Distinguish the concept of axes and axis in Matplotlib](https://matplotlib.org/faq/usage_faq.html)"
   ]
  },
  {
   "cell_type": "code",
   "execution_count": null,
   "metadata": {},
   "outputs": [],
   "source": [
    "type(ax)"
   ]
  },
  {
   "cell_type": "code",
   "execution_count": null,
   "metadata": {},
   "outputs": [],
   "source": [
    "type(ax[0])"
   ]
  },
  {
   "cell_type": "code",
   "execution_count": null,
   "metadata": {},
   "outputs": [],
   "source": [
    "fig"
   ]
  },
  {
   "cell_type": "markdown",
   "metadata": {},
   "source": [
    "## Image Processing\n",
    "\n",
    "There are many great packages available to handle the image data in Python, such as [Pillow](https://pillow.readthedocs.io/en/stable/handbook/tutorial.html#using-the-image-class), [Scikit-Image](https://scikit-image.org/) and [opencv-python](https://github.com/skvark/opencv-python).\n",
    "\n",
    "Here we import images from Scikit-Image which is [well-compatible with Numpy](https://scikit-image.org/docs/dev/user_guide/numpy_images.html), and use Numpy to manipulate images."
   ]
  },
  {
   "cell_type": "code",
   "execution_count": null,
   "metadata": {},
   "outputs": [],
   "source": [
    "from skimage import data\n",
    "image_astro = data.astronaut()# read the image as numpy array\n",
    "image_rock = data.rocket()\n",
    "fig = plt.figure(dpi=100)\n",
    "plt.imshow(image_astro)"
   ]
  },
  {
   "cell_type": "code",
   "execution_count": null,
   "metadata": {},
   "outputs": [],
   "source": [
    "fig = plt.figure(dpi=100)\n",
    "plt.imshow(image_rock)"
   ]
  },
  {
   "cell_type": "code",
   "execution_count": null,
   "metadata": {},
   "outputs": [],
   "source": [
    "image_astro.shape"
   ]
  },
  {
   "cell_type": "code",
   "execution_count": null,
   "metadata": {},
   "outputs": [],
   "source": [
    "image_rock.shape"
   ]
  },
  {
   "cell_type": "code",
   "execution_count": null,
   "metadata": {},
   "outputs": [],
   "source": [
    "[np.max(image_astro),np.min(image_astro)]"
   ]
  },
  {
   "cell_type": "markdown",
   "metadata": {},
   "source": [
    "Even with simple Numpy expressions, you can do some image processing like in Photoshop!"
   ]
  },
  {
   "cell_type": "markdown",
   "metadata": {},
   "source": [
    "- Crop the images"
   ]
  },
  {
   "cell_type": "code",
   "execution_count": null,
   "metadata": {},
   "outputs": [],
   "source": [
    "image_astro_split = image_astro[:427,:,:]\n",
    "image_rock_split = image_rock[:,:512,:]"
   ]
  },
  {
   "cell_type": "code",
   "execution_count": null,
   "metadata": {},
   "outputs": [],
   "source": [
    "fig, ax = plt.subplots(ncols=2, dpi = 100)\n",
    "ax[0].imshow(image_astro_split) # plot and set_title are the methods of ax[0] -axes\n",
    "ax[1].imshow(image_rock_split)"
   ]
  },
  {
   "cell_type": "markdown",
   "metadata": {},
   "source": [
    "- Invert the colors"
   ]
  },
  {
   "cell_type": "code",
   "execution_count": null,
   "metadata": {
    "scrolled": true
   },
   "outputs": [],
   "source": [
    "fig = plt.figure(dpi=100)\n",
    "plt.imshow(255-image_rock)"
   ]
  },
  {
   "cell_type": "markdown",
   "metadata": {},
   "source": [
    "- Exchange RGB channels"
   ]
  },
  {
   "cell_type": "code",
   "execution_count": null,
   "metadata": {},
   "outputs": [],
   "source": [
    "fig = plt.figure(dpi=100)\n",
    "plt.imshow(image_rock[:,:,[2,1,0]])"
   ]
  },
  {
   "cell_type": "markdown",
   "metadata": {},
   "source": [
    "- Binarize the image"
   ]
  },
  {
   "cell_type": "code",
   "execution_count": null,
   "metadata": {},
   "outputs": [],
   "source": [
    "image = image_rock\n",
    "image_bi = np.empty_like(image)\n",
    "\n",
    "thresh = 90\n",
    "maxval = 255\n",
    "\n",
    "for i in range(3):\n",
    "    image_bi[:, :, i] = (image[:, :, i] > thresh) * maxval\n",
    "\n",
    "fig = plt.figure(dpi=100)\n",
    "plt.imshow(image_bi[:,:,[2,1,0]])"
   ]
  },
  {
   "cell_type": "code",
   "execution_count": null,
   "metadata": {},
   "outputs": [],
   "source": [
    "image_bi"
   ]
  },
  {
   "cell_type": "markdown",
   "metadata": {},
   "source": [
    "- Blending"
   ]
  },
  {
   "cell_type": "code",
   "execution_count": null,
   "metadata": {},
   "outputs": [],
   "source": [
    "image_combine = 0.4*image_astro_split+0.6*image_rock_split\n",
    "fig = plt.figure(dpi=100)\n",
    "plt.imshow(image_combine.astype('uint8'))\n",
    "plt.axis('off')"
   ]
  }
 ],
 "metadata": {
  "kernelspec": {
   "display_name": "Python 3",
   "language": "python",
   "name": "python3"
  },
  "language_info": {
   "codemirror_mode": {
    "name": "ipython",
    "version": 3
   },
   "file_extension": ".py",
   "mimetype": "text/x-python",
   "name": "python",
   "nbconvert_exporter": "python",
   "pygments_lexer": "ipython3",
   "version": "3.7.6"
  }
 },
 "nbformat": 4,
 "nbformat_minor": 4
}
